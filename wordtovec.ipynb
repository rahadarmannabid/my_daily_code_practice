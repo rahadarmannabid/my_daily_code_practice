{
 "cells": [
  {
   "cell_type": "code",
   "execution_count": 13,
   "id": "f0aa7f17",
   "metadata": {},
   "outputs": [],
   "source": [
    "import re"
   ]
  },
  {
   "cell_type": "code",
   "execution_count": 25,
   "id": "c272f923",
   "metadata": {},
   "outputs": [],
   "source": [
    "import nltk\n",
    "from gensim.models import Word2Vec\n",
    "from nltk.corpus import stopwords"
   ]
  },
  {
   "cell_type": "code",
   "execution_count": 26,
   "id": "acd7ffe5",
   "metadata": {},
   "outputs": [],
   "source": [
    "paragraph = '''At least 1,951 new infections were recorded and nine people died from Covid-19 in 24 hours till 8:00 am today, said a press release issued by the Directorate General of Health Services (DGHS).\n",
    "\n",
    "The current positivity rate is 6.94 percent while the total positivity rate stands at 14.62 percent.\n",
    "\n",
    "The total number of Covid-19 deaths in the country now stands at 28,974 and the mortality rate stands at 1.50 percent. Meanwhile, the total number of cases rose to 19,35,242, added the release.\n",
    "\n",
    "A total of 28,097 samples were tested across the country in the 24 hours.\n",
    "\n",
    "At least 8,674 patients have recovered from Covid-19 during the period. The total number of recoveries now stands at 17,63,258 and the recovery rate at 91.11 percent, added the release.\n",
    "\n",
    "Of the nine deceased, five were male and four were female.\n",
    "\n",
    "Of them, one was aged between 0-10 years, one between 21-30, two between 41-50, three between 61-70, one each aged between 71-80 and 91-100 respectively, added the release.'''"
   ]
  },
  {
   "cell_type": "code",
   "execution_count": 27,
   "id": "d1e9965c",
   "metadata": {},
   "outputs": [
    {
     "data": {
      "text/plain": [
       "'At least 1,951 new infections were recorded and nine people died from Covid-19 in 24 hours till 8:00 am today, said a press release issued by the Directorate General of Health Services (DGHS).\\n\\nThe current positivity rate is 6.94 percent while the total positivity rate stands at 14.62 percent.\\n\\nThe total number of Covid-19 deaths in the country now stands at 28,974 and the mortality rate stands at 1.50 percent. Meanwhile, the total number of cases rose to 19,35,242, added the release.\\n\\nA total of 28,097 samples were tested across the country in the 24 hours.\\n\\nAt least 8,674 patients have recovered from Covid-19 during the period. The total number of recoveries now stands at 17,63,258 and the recovery rate at 91.11 percent, added the release.\\n\\nOf the nine deceased, five were male and four were female.\\n\\nOf them, one was aged between 0-10 years, one between 21-30, two between 41-50, three between 61-70, one each aged between 71-80 and 91-100 respectively, added the release.'"
      ]
     },
     "execution_count": 27,
     "metadata": {},
     "output_type": "execute_result"
    }
   ],
   "source": [
    "text = re.sub(r'[[0-9]*\\]',' ', paragraph)\n",
    "text"
   ]
  },
  {
   "cell_type": "code",
   "execution_count": 28,
   "id": "eb4c55b8",
   "metadata": {},
   "outputs": [],
   "source": [
    "text = re.sub(r'\\s+', ' ', text)\n",
    "text = text.lower()\n",
    "text = re.sub(r'\\d',' ', text)\n",
    "text=  re.sub(r'\\s+', ' ', text)"
   ]
  },
  {
   "cell_type": "code",
   "execution_count": 29,
   "id": "c3c87419",
   "metadata": {},
   "outputs": [
    {
     "data": {
      "text/plain": [
       "'at least , new infections were recorded and nine people died from covid- in hours till : am today, said a press release issued by the directorate general of health services (dghs). the current positivity rate is . percent while the total positivity rate stands at . percent. the total number of covid- deaths in the country now stands at , and the mortality rate stands at . percent. meanwhile, the total number of cases rose to , , , added the release. a total of , samples were tested across the country in the hours. at least , patients have recovered from covid- during the period. the total number of recoveries now stands at , , and the recovery rate at . percent, added the release. of the nine deceased, five were male and four were female. of them, one was aged between - years, one between - , two between - , three between - , one each aged between - and - respectively, added the release.'"
      ]
     },
     "execution_count": 29,
     "metadata": {},
     "output_type": "execute_result"
    }
   ],
   "source": [
    "text"
   ]
  },
  {
   "cell_type": "code",
   "execution_count": 30,
   "id": "117adf9b",
   "metadata": {},
   "outputs": [
    {
     "data": {
      "text/plain": [
       "['at least , new infections were recorded and nine people died from covid- in hours till : am today, said a press release issued by the directorate general of health services (dghs).',\n",
       " 'the current positivity rate is .',\n",
       " 'percent while the total positivity rate stands at .',\n",
       " 'percent.',\n",
       " 'the total number of covid- deaths in the country now stands at , and the mortality rate stands at .',\n",
       " 'percent.',\n",
       " 'meanwhile, the total number of cases rose to , , , added the release.',\n",
       " 'a total of , samples were tested across the country in the hours.',\n",
       " 'at least , patients have recovered from covid- during the period.',\n",
       " 'the total number of recoveries now stands at , , and the recovery rate at .',\n",
       " 'percent, added the release.',\n",
       " 'of the nine deceased, five were male and four were female.',\n",
       " 'of them, one was aged between - years, one between - , two between - , three between - , one each aged between - and - respectively, added the release.']"
      ]
     },
     "execution_count": 30,
     "metadata": {},
     "output_type": "execute_result"
    }
   ],
   "source": [
    "sentence = nltk.sent_tokenize(text)\n",
    "sentence"
   ]
  },
  {
   "cell_type": "code",
   "execution_count": 31,
   "id": "f1f8c426",
   "metadata": {},
   "outputs": [
    {
     "data": {
      "text/plain": [
       "[['at',\n",
       "  'least',\n",
       "  ',',\n",
       "  'new',\n",
       "  'infections',\n",
       "  'were',\n",
       "  'recorded',\n",
       "  'and',\n",
       "  'nine',\n",
       "  'people',\n",
       "  'died',\n",
       "  'from',\n",
       "  'covid-',\n",
       "  'in',\n",
       "  'hours',\n",
       "  'till',\n",
       "  ':',\n",
       "  'am',\n",
       "  'today',\n",
       "  ',',\n",
       "  'said',\n",
       "  'a',\n",
       "  'press',\n",
       "  'release',\n",
       "  'issued',\n",
       "  'by',\n",
       "  'the',\n",
       "  'directorate',\n",
       "  'general',\n",
       "  'of',\n",
       "  'health',\n",
       "  'services',\n",
       "  '(',\n",
       "  'dghs',\n",
       "  ')',\n",
       "  '.'],\n",
       " ['the', 'current', 'positivity', 'rate', 'is', '.'],\n",
       " ['percent',\n",
       "  'while',\n",
       "  'the',\n",
       "  'total',\n",
       "  'positivity',\n",
       "  'rate',\n",
       "  'stands',\n",
       "  'at',\n",
       "  '.'],\n",
       " ['percent', '.'],\n",
       " ['the',\n",
       "  'total',\n",
       "  'number',\n",
       "  'of',\n",
       "  'covid-',\n",
       "  'deaths',\n",
       "  'in',\n",
       "  'the',\n",
       "  'country',\n",
       "  'now',\n",
       "  'stands',\n",
       "  'at',\n",
       "  ',',\n",
       "  'and',\n",
       "  'the',\n",
       "  'mortality',\n",
       "  'rate',\n",
       "  'stands',\n",
       "  'at',\n",
       "  '.'],\n",
       " ['percent', '.'],\n",
       " ['meanwhile',\n",
       "  ',',\n",
       "  'the',\n",
       "  'total',\n",
       "  'number',\n",
       "  'of',\n",
       "  'cases',\n",
       "  'rose',\n",
       "  'to',\n",
       "  ',',\n",
       "  ',',\n",
       "  ',',\n",
       "  'added',\n",
       "  'the',\n",
       "  'release',\n",
       "  '.'],\n",
       " ['a',\n",
       "  'total',\n",
       "  'of',\n",
       "  ',',\n",
       "  'samples',\n",
       "  'were',\n",
       "  'tested',\n",
       "  'across',\n",
       "  'the',\n",
       "  'country',\n",
       "  'in',\n",
       "  'the',\n",
       "  'hours',\n",
       "  '.'],\n",
       " ['at',\n",
       "  'least',\n",
       "  ',',\n",
       "  'patients',\n",
       "  'have',\n",
       "  'recovered',\n",
       "  'from',\n",
       "  'covid-',\n",
       "  'during',\n",
       "  'the',\n",
       "  'period',\n",
       "  '.'],\n",
       " ['the',\n",
       "  'total',\n",
       "  'number',\n",
       "  'of',\n",
       "  'recoveries',\n",
       "  'now',\n",
       "  'stands',\n",
       "  'at',\n",
       "  ',',\n",
       "  ',',\n",
       "  'and',\n",
       "  'the',\n",
       "  'recovery',\n",
       "  'rate',\n",
       "  'at',\n",
       "  '.'],\n",
       " ['percent', ',', 'added', 'the', 'release', '.'],\n",
       " ['of',\n",
       "  'the',\n",
       "  'nine',\n",
       "  'deceased',\n",
       "  ',',\n",
       "  'five',\n",
       "  'were',\n",
       "  'male',\n",
       "  'and',\n",
       "  'four',\n",
       "  'were',\n",
       "  'female',\n",
       "  '.'],\n",
       " ['of',\n",
       "  'them',\n",
       "  ',',\n",
       "  'one',\n",
       "  'was',\n",
       "  'aged',\n",
       "  'between',\n",
       "  '-',\n",
       "  'years',\n",
       "  ',',\n",
       "  'one',\n",
       "  'between',\n",
       "  '-',\n",
       "  ',',\n",
       "  'two',\n",
       "  'between',\n",
       "  '-',\n",
       "  ',',\n",
       "  'three',\n",
       "  'between',\n",
       "  '-',\n",
       "  ',',\n",
       "  'one',\n",
       "  'each',\n",
       "  'aged',\n",
       "  'between',\n",
       "  '-',\n",
       "  'and',\n",
       "  '-',\n",
       "  'respectively',\n",
       "  ',',\n",
       "  'added',\n",
       "  'the',\n",
       "  'release',\n",
       "  '.']]"
      ]
     },
     "execution_count": 31,
     "metadata": {},
     "output_type": "execute_result"
    }
   ],
   "source": [
    "sentence = [nltk.word_tokenize(sentence) for sentence in sentence]\n",
    "sentence"
   ]
  },
  {
   "cell_type": "code",
   "execution_count": 32,
   "id": "f0dc94bf",
   "metadata": {},
   "outputs": [],
   "source": [
    "for i in range(len(sentence)):\n",
    "    sentence[i] = [word for word in sentence[i] if word not in stopwords.words('english')]"
   ]
  },
  {
   "cell_type": "code",
   "execution_count": 33,
   "id": "4cfe8cbe",
   "metadata": {},
   "outputs": [
    {
     "data": {
      "text/plain": [
       "[['least',\n",
       "  ',',\n",
       "  'new',\n",
       "  'infections',\n",
       "  'recorded',\n",
       "  'nine',\n",
       "  'people',\n",
       "  'died',\n",
       "  'covid-',\n",
       "  'hours',\n",
       "  'till',\n",
       "  ':',\n",
       "  'today',\n",
       "  ',',\n",
       "  'said',\n",
       "  'press',\n",
       "  'release',\n",
       "  'issued',\n",
       "  'directorate',\n",
       "  'general',\n",
       "  'health',\n",
       "  'services',\n",
       "  '(',\n",
       "  'dghs',\n",
       "  ')',\n",
       "  '.'],\n",
       " ['current', 'positivity', 'rate', '.'],\n",
       " ['percent', 'total', 'positivity', 'rate', 'stands', '.'],\n",
       " ['percent', '.'],\n",
       " ['total',\n",
       "  'number',\n",
       "  'covid-',\n",
       "  'deaths',\n",
       "  'country',\n",
       "  'stands',\n",
       "  ',',\n",
       "  'mortality',\n",
       "  'rate',\n",
       "  'stands',\n",
       "  '.'],\n",
       " ['percent', '.'],\n",
       " ['meanwhile',\n",
       "  ',',\n",
       "  'total',\n",
       "  'number',\n",
       "  'cases',\n",
       "  'rose',\n",
       "  ',',\n",
       "  ',',\n",
       "  ',',\n",
       "  'added',\n",
       "  'release',\n",
       "  '.'],\n",
       " ['total', ',', 'samples', 'tested', 'across', 'country', 'hours', '.'],\n",
       " ['least', ',', 'patients', 'recovered', 'covid-', 'period', '.'],\n",
       " ['total',\n",
       "  'number',\n",
       "  'recoveries',\n",
       "  'stands',\n",
       "  ',',\n",
       "  ',',\n",
       "  'recovery',\n",
       "  'rate',\n",
       "  '.'],\n",
       " ['percent', ',', 'added', 'release', '.'],\n",
       " ['nine', 'deceased', ',', 'five', 'male', 'four', 'female', '.'],\n",
       " [',',\n",
       "  'one',\n",
       "  'aged',\n",
       "  '-',\n",
       "  'years',\n",
       "  ',',\n",
       "  'one',\n",
       "  '-',\n",
       "  ',',\n",
       "  'two',\n",
       "  '-',\n",
       "  ',',\n",
       "  'three',\n",
       "  '-',\n",
       "  ',',\n",
       "  'one',\n",
       "  'aged',\n",
       "  '-',\n",
       "  '-',\n",
       "  'respectively',\n",
       "  ',',\n",
       "  'added',\n",
       "  'release',\n",
       "  '.']]"
      ]
     },
     "execution_count": 33,
     "metadata": {},
     "output_type": "execute_result"
    }
   ],
   "source": [
    "sentence"
   ]
  },
  {
   "cell_type": "code",
   "execution_count": 34,
   "id": "660dacf5",
   "metadata": {},
   "outputs": [],
   "source": [
    "model = Word2Vec(sentence, min_count=1)"
   ]
  },
  {
   "cell_type": "code",
   "execution_count": 37,
   "id": "4621226e",
   "metadata": {},
   "outputs": [],
   "source": [
    "words = list(model.wv.index_to_key)"
   ]
  },
  {
   "cell_type": "code",
   "execution_count": 38,
   "id": "16992460",
   "metadata": {},
   "outputs": [
    {
     "data": {
      "text/plain": [
       "[',',\n",
       " '.',\n",
       " '-',\n",
       " 'total',\n",
       " 'release',\n",
       " 'rate',\n",
       " 'percent',\n",
       " 'stands',\n",
       " 'added',\n",
       " 'covid-',\n",
       " 'one',\n",
       " 'number',\n",
       " 'nine',\n",
       " 'hours',\n",
       " 'positivity',\n",
       " 'country',\n",
       " 'least',\n",
       " 'aged',\n",
       " 'across',\n",
       " 'till',\n",
       " 'general',\n",
       " 'directorate',\n",
       " 'issued',\n",
       " 'four',\n",
       " 'press',\n",
       " 'said',\n",
       " 'today',\n",
       " ':',\n",
       " 'female',\n",
       " 'tested',\n",
       " 'died',\n",
       " 'people',\n",
       " 'years',\n",
       " 'recorded',\n",
       " 'infections',\n",
       " 'new',\n",
       " 'two',\n",
       " 'health',\n",
       " 'services',\n",
       " '(',\n",
       " 'dghs',\n",
       " 'samples',\n",
       " 'patients',\n",
       " 'rose',\n",
       " 'cases',\n",
       " 'meanwhile',\n",
       " 'mortality',\n",
       " 'recovered',\n",
       " 'deaths',\n",
       " 'period',\n",
       " 'recoveries',\n",
       " 'three',\n",
       " 'recovery',\n",
       " 'deceased',\n",
       " 'five',\n",
       " 'current',\n",
       " 'male',\n",
       " ')',\n",
       " 'respectively']"
      ]
     },
     "execution_count": 38,
     "metadata": {},
     "output_type": "execute_result"
    }
   ],
   "source": [
    "words"
   ]
  },
  {
   "cell_type": "code",
   "execution_count": 41,
   "id": "72565238",
   "metadata": {},
   "outputs": [
    {
     "data": {
      "text/plain": [
       "array([ 9.9958796e-03,  5.9487170e-04, -5.1264241e-03, -3.6082189e-03,\n",
       "        1.2384908e-03, -5.4087946e-03,  7.4215811e-03,  9.0604769e-03,\n",
       "        4.2594597e-03, -7.3788385e-03, -5.9416969e-03,  1.6734433e-05,\n",
       "       -1.0092602e-03, -5.5028717e-03,  7.9458440e-03,  6.2210159e-03,\n",
       "       -4.1804109e-03,  2.3819334e-03,  5.1127863e-03,  2.3677493e-03,\n",
       "        8.6071603e-03, -1.3182895e-03, -6.4822184e-03, -8.5600500e-04,\n",
       "       -8.3461739e-03,  9.8454664e-03, -8.6534759e-03, -1.5002857e-03,\n",
       "       -2.8781537e-03,  3.1528755e-03,  4.9800603e-03, -8.2560191e-03,\n",
       "       -4.3686740e-03,  4.3890014e-04,  3.9894641e-03,  5.1215296e-03,\n",
       "       -1.3607343e-03, -5.9494551e-04, -7.8529203e-03,  4.5290384e-03,\n",
       "       -7.6597980e-03,  3.2924663e-03, -3.4414723e-03, -7.7983448e-03,\n",
       "        6.8785553e-03, -4.9060106e-04, -9.5375972e-03, -9.3825059e-03,\n",
       "        6.0918927e-04, -8.1453305e-03,  3.7161435e-03,  3.4416344e-03,\n",
       "        3.3552807e-03, -5.6160470e-03,  8.0088601e-03, -8.9911576e-03,\n",
       "        7.4715125e-03, -6.2200183e-04, -1.5047215e-03,  3.9804326e-03,\n",
       "       -2.4743197e-03, -4.4092014e-03, -2.4132254e-03, -6.1775977e-03,\n",
       "       -3.6225369e-04, -5.3514321e-03,  4.5912871e-03, -9.5104789e-03,\n",
       "       -4.3664887e-03, -9.1575431e-03, -9.6296454e-03, -7.3909556e-04,\n",
       "       -8.0347518e-03, -5.6813187e-03,  2.8079269e-03, -1.4310492e-03,\n",
       "        3.0857532e-03,  8.2720015e-03, -9.6410066e-03,  6.0622268e-03,\n",
       "       -7.9675764e-03,  6.5405341e-03,  7.4441708e-03,  8.5967686e-03,\n",
       "       -7.9795020e-03,  3.3205326e-03, -7.8083873e-03, -1.2573057e-03,\n",
       "       -5.2012224e-03, -8.5252561e-03,  4.9612275e-03,  4.4383164e-03,\n",
       "       -4.0713316e-03, -7.7903103e-03,  3.6033047e-03, -3.9187931e-03,\n",
       "       -8.9179901e-03, -4.4043991e-03, -2.1816238e-03,  8.7438580e-03],\n",
       "      dtype=float32)"
      ]
     },
     "execution_count": 41,
     "metadata": {},
     "output_type": "execute_result"
    }
   ],
   "source": [
    "vector = model.wv['male'] \n",
    "vector"
   ]
  },
  {
   "cell_type": "code",
   "execution_count": 43,
   "id": "bc9a843a",
   "metadata": {},
   "outputs": [],
   "source": [
    "similar = model.wv.most_similar('male')"
   ]
  },
  {
   "cell_type": "code",
   "execution_count": 44,
   "id": "9868948b",
   "metadata": {},
   "outputs": [
    {
     "data": {
      "text/plain": [
       "[('said', 0.20672689378261566),\n",
       " ('positivity', 0.18418632447719574),\n",
       " ('four', 0.16489404439926147),\n",
       " ('issued', 0.15479187667369843),\n",
       " ('till', 0.14747391641139984),\n",
       " ('aged', 0.14146950840950012),\n",
       " ('total', 0.1355227530002594),\n",
       " ('current', 0.1294119954109192),\n",
       " ('meanwhile', 0.09172555804252625),\n",
       " ('nine', 0.09111438691616058)]"
      ]
     },
     "execution_count": 44,
     "metadata": {},
     "output_type": "execute_result"
    }
   ],
   "source": [
    "similar"
   ]
  },
  {
   "cell_type": "code",
   "execution_count": null,
   "id": "473ed073",
   "metadata": {},
   "outputs": [],
   "source": []
  }
 ],
 "metadata": {
  "kernelspec": {
   "display_name": "Python 3 (ipykernel)",
   "language": "python",
   "name": "python3"
  },
  "language_info": {
   "codemirror_mode": {
    "name": "ipython",
    "version": 3
   },
   "file_extension": ".py",
   "mimetype": "text/x-python",
   "name": "python",
   "nbconvert_exporter": "python",
   "pygments_lexer": "ipython3",
   "version": "3.8.12"
  }
 },
 "nbformat": 4,
 "nbformat_minor": 5
}
